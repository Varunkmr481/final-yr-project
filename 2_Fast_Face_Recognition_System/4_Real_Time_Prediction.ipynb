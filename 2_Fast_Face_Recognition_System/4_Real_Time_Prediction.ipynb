{
 "cells": [
  {
   "cell_type": "code",
   "execution_count": 1,
   "id": "b6d2067a-a74f-454b-9595-f70d617ca79d",
   "metadata": {},
   "outputs": [
    {
     "name": "stderr",
     "output_type": "stream",
     "text": [
      "C:\\Users\\tanya\\OneDrive\\Desktop\\Face Recognition Attendance System - Copy - Copy\\Attendance_System\\Notes\\attendance_system\\lib\\site-packages\\albumentations\\__init__.py:24: UserWarning: A new version of Albumentations is available: 2.0.3 (you have 1.4.21). Upgrade using: pip install -U albumentations. To disable automatic update checks, set the environment variable NO_ALBUMENTATIONS_UPDATE to 1.\n",
      "  check_for_updates()\n"
     ]
    },
    {
     "name": "stdout",
     "output_type": "stream",
     "text": [
      "Applied providers: ['CPUExecutionProvider'], with options: {'CPUExecutionProvider': {}}\n",
      "find model: insightface_model\\models\\buffalo_l\\1k3d68.onnx landmark_3d_68 ['None', 3, 192, 192] 0.0 1.0\n",
      "Applied providers: ['CPUExecutionProvider'], with options: {'CPUExecutionProvider': {}}\n",
      "find model: insightface_model\\models\\buffalo_l\\2d106det.onnx landmark_2d_106 ['None', 3, 192, 192] 0.0 1.0\n",
      "Applied providers: ['CPUExecutionProvider'], with options: {'CPUExecutionProvider': {}}\n",
      "find model: insightface_model\\models\\buffalo_l\\det_10g.onnx detection [1, 3, '?', '?'] 127.5 128.0\n",
      "Applied providers: ['CPUExecutionProvider'], with options: {'CPUExecutionProvider': {}}\n",
      "find model: insightface_model\\models\\buffalo_l\\genderage.onnx genderage ['None', 3, 96, 96] 0.0 1.0\n",
      "Applied providers: ['CPUExecutionProvider'], with options: {'CPUExecutionProvider': {}}\n",
      "find model: insightface_model\\models\\buffalo_l\\w600k_r50.onnx recognition ['None', 3, 112, 112] 127.5 127.5\n",
      "set det-size: (640, 640)\n"
     ]
    }
   ],
   "source": [
    "import face_rec"
   ]
  },
  {
   "cell_type": "code",
   "execution_count": 2,
   "id": "45b8af97-17ec-4486-86bf-8a0a625475c6",
   "metadata": {},
   "outputs": [],
   "source": [
    "import pandas as pd\n",
    "import numpy as np\n",
    "import cv2"
   ]
  },
  {
   "cell_type": "code",
   "execution_count": 3,
   "id": "9bcac0b6-780f-4d4f-a478-dc4644fef24c",
   "metadata": {},
   "outputs": [
    {
     "data": {
      "text/plain": [
       "True"
      ]
     },
     "execution_count": 3,
     "metadata": {},
     "output_type": "execute_result"
    }
   ],
   "source": [
    "face_rec.r.ping()"
   ]
  },
  {
   "cell_type": "markdown",
   "id": "26f44466-f3e5-4cab-8497-61bdcb1a62b4",
   "metadata": {},
   "source": [
    "## EXTRACTING DATA FROM REDIS DATABASE"
   ]
  },
  {
   "cell_type": "code",
   "execution_count": 4,
   "id": "6167bcef-47bd-44e4-80f9-258b1f158719",
   "metadata": {},
   "outputs": [
    {
     "name": "stdout",
     "output_type": "stream",
     "text": [
      "512\n",
      "512\n",
      "512\n",
      "512\n",
      "512\n",
      "512\n",
      "512\n",
      "512\n",
      "512\n",
      "512\n",
      "512\n",
      "512\n",
      "512\n",
      "512\n",
      "512\n",
      "512\n",
      "512\n",
      "512\n",
      "512\n",
      "512\n",
      "512\n",
      "512\n",
      "512\n",
      "512\n",
      "512\n",
      "512\n",
      "512\n",
      "512\n",
      "512\n",
      "512\n",
      "512\n",
      "512\n",
      "512\n",
      "512\n",
      "512\n",
      "512\n",
      "512\n",
      "512\n",
      "512\n",
      "512\n",
      "512\n",
      "512\n",
      "512\n",
      "512\n",
      "512\n",
      "512\n",
      "512\n",
      "512\n",
      "512\n",
      "512\n",
      "512\n",
      "512\n",
      "512\n",
      "512\n",
      "512\n",
      "512\n",
      "512\n",
      "512\n",
      "512\n",
      "512\n",
      "512\n",
      "512\n",
      "512\n",
      "512\n",
      "512\n",
      "512\n"
     ]
    }
   ],
   "source": [
    "# database name : \"sharda:register\"\n",
    "db_name = \"sharda\"\n",
    "\n",
    "retrieve_dict = face_rec.r.hgetall(db_name)\n",
    "retrieve_dict\n",
    "\n",
    "# array of bytes\n",
    "# retrieve_dict\n",
    "\n",
    "retrieve_series = pd.Series(retrieve_dict)\n",
    "retrieve_series = retrieve_series.apply(lambda x: np.frombuffer(x,dtype=np.float64))\n",
    "index = retrieve_series.index\n",
    "index = list(map(lambda x : x.decode(), index))\n",
    "retrieve_series.index = index\n",
    "\n",
    "# retrieve_series\n",
    "\n",
    "# converting retrieve series into df\n",
    "retrieve_df = retrieve_series.to_frame().reset_index()\n",
    "retrieve_df.columns = ['name_role', 'facial_features']\n",
    "\n",
    "# retrieve_df\n",
    "\n",
    "retrieve_df[['Name', 'Role']] = retrieve_df['name_role'].apply(lambda x: x.split('@')).apply(pd.Series)\n",
    "\n",
    "for se in retrieve_df['facial_features']:\n",
    "    print(len(se))\n",
    "\n",
    "# retrieve_df\n",
    "\n",
    "# for se in retrieve_df['facial_features']:\n",
    "#     print(len(se))"
   ]
  },
  {
   "cell_type": "markdown",
   "id": "bd067602-7037-4cc7-a57e-be60ca277e61",
   "metadata": {},
   "source": [
    "# REAL TIME PREDICTION"
   ]
  },
  {
   "cell_type": "markdown",
   "id": "13bde929-ab0a-4c52-acd5-21c7af0716ce",
   "metadata": {},
   "source": [
    "## CHECKING FOR INDEX"
   ]
  },
  {
   "cell_type": "code",
   "execution_count": 5,
   "id": "1ad10c44-4dc8-42f0-831b-1cc4e977cd97",
   "metadata": {},
   "outputs": [
    {
     "name": "stdout",
     "output_type": "stream",
     "text": [
      "Checking available cameras...\n",
      "Camera found at index 0\n",
      "Camera found at index 1\n",
      "No camera found at index 2\n",
      "No camera found at index 3\n",
      "No camera found at index 4\n"
     ]
    }
   ],
   "source": [
    "import cv2\n",
    "\n",
    "print(\"Checking available cameras...\")\n",
    "for index in range(5):  # Check indexes from 0 to 4\n",
    "    cap = cv2.VideoCapture(index, cv2.CAP_DSHOW)\n",
    "    if cap.isOpened():\n",
    "        print(f\"Camera found at index {index}\")\n",
    "        cap.release()\n",
    "    else:\n",
    "        print(f\"No camera found at index {index}\")\n"
   ]
  },
  {
   "cell_type": "markdown",
   "id": "8aed58fa-8946-478f-a66d-20510d49c234",
   "metadata": {},
   "source": [
    "## CAMERA TESTING"
   ]
  },
  {
   "cell_type": "code",
   "execution_count": 5,
   "id": "27e484ca-00c4-41f3-bf44-7c1e73f1e59f",
   "metadata": {},
   "outputs": [
    {
     "name": "stdout",
     "output_type": "stream",
     "text": [
      "Starting camera feed... Press 'q' to exit.\n"
     ]
    }
   ],
   "source": [
    "import cv2\n",
    "import time\n",
    "\n",
    "camera_index = 1  # Replace with correct index\n",
    "cap = cv2.VideoCapture(camera_index, cv2.CAP_DSHOW)\n",
    "\n",
    "if not cap.isOpened():\n",
    "    print(f\"Camera at index {camera_index} is not accessible.\")\n",
    "    exit()\n",
    "\n",
    "cap.set(cv2.CAP_PROP_FRAME_WIDTH, 640)\n",
    "cap.set(cv2.CAP_PROP_FRAME_HEIGHT, 480)\n",
    "\n",
    "time.sleep(2)  # Allow camera to initialize\n",
    "print(\"Starting camera feed... Press 'q' to exit.\")\n",
    "\n",
    "while True:\n",
    "    ret, frame = cap.read()\n",
    "\n",
    "    if not ret or frame is None:\n",
    "        print(f\"Failed to capture frame from camera index {camera_index}.\")\n",
    "        break\n",
    "\n",
    "    cv2.imshow(\"Camera Feed\", frame)\n",
    "\n",
    "    if cv2.waitKey(1) & 0xFF == ord('q'):  # Press 'q' to quit\n",
    "        break\n",
    "\n",
    "cap.release()\n",
    "cv2.destroyAllWindows()\n"
   ]
  },
  {
   "cell_type": "code",
   "execution_count": 7,
   "id": "801bd868-6529-4138-809c-221e67daa37e",
   "metadata": {},
   "outputs": [
    {
     "name": "stdout",
     "output_type": "stream",
     "text": [
      "Starting camera feed... Press 'esc' to exit.\n"
     ]
    }
   ],
   "source": [
    "# 0 -> default camera, 1 -> external camera \n",
    "# ek baar check krne wala fn chla lio jo phle banya tha, vrna bt aati h\n",
    "import cv2\n",
    "import time\n",
    "\n",
    "camera_index = 1\n",
    "cap = cv2.VideoCapture(camera_index, cv2.CAP_DSHOW)\n",
    "\n",
    "cap.set(cv2.CAP_PROP_FRAME_WIDTH, 640)\n",
    "cap.set(cv2.CAP_PROP_FRAME_HEIGHT, 480)\n",
    "\n",
    "if not cap.isOpened():\n",
    "    print(f\"Camera at index {camera_index} is not accessible.\")\n",
    "    exit()\n",
    "\n",
    "time.sleep(2)  # Allow camera to initialize\n",
    "print(\"Starting camera feed... Press 'esc' to exit.\")\n",
    "\n",
    "while True:\n",
    "    ret, frame = cap.read()\n",
    "    if ret == False:\n",
    "        break\n",
    "        \n",
    "    pred_frame = face_rec.face_prediction(frame, retrieve_df, \"facial_features\", ['Name', 'Role'], thresh=0.5)\n",
    "\n",
    "    # isko baad m hatana h bs testing ke liye likha hu\n",
    "    # cv2.imshow(\"frame\", frame)\n",
    "    cv2.imshow(\"prediction frame\", pred_frame)\n",
    "\n",
    "    if cv2.waitKey(1) == 27:\n",
    "        break\n",
    "\n",
    "cv2.destroyAllWindows()\n",
    "cap.release()"
   ]
  },
  {
   "cell_type": "code",
   "execution_count": null,
   "id": "6154fc6e-e650-499c-8b77-8a3a4e37c7c3",
   "metadata": {},
   "outputs": [],
   "source": []
  }
 ],
 "metadata": {
  "kernelspec": {
   "display_name": "Python 3 (ipykernel)",
   "language": "python",
   "name": "python3"
  },
  "language_info": {
   "codemirror_mode": {
    "name": "ipython",
    "version": 3
   },
   "file_extension": ".py",
   "mimetype": "text/x-python",
   "name": "python",
   "nbconvert_exporter": "python",
   "pygments_lexer": "ipython3",
   "version": "3.10.11"
  }
 },
 "nbformat": 4,
 "nbformat_minor": 5
}
