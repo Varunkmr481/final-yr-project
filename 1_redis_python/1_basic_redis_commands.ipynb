{
 "cells": [
  {
   "cell_type": "code",
   "execution_count": 1,
   "id": "f660c00e-7b0a-4547-b3a5-968365464ae5",
   "metadata": {},
   "outputs": [],
   "source": [
    "import redis"
   ]
  },
  {
   "cell_type": "code",
   "execution_count": 3,
   "id": "dcd7af2b-47df-425e-b14f-469e615bf9ba",
   "metadata": {},
   "outputs": [],
   "source": [
    "hostname = \"redis-13063.c239.us-east-1-2.ec2.redns.redis-cloud.com\"\n",
    "port = 13063\n",
    "password = '5WFjwCidKyiUxsWLm4R4a5UJbviMvuiy'\n",
    "\n",
    "r = redis.Redis(host= hostname, port=port, password= password)"
   ]
  },
  {
   "cell_type": "markdown",
   "id": "bf1d7c34-7521-408f-a587-24249b8a7000",
   "metadata": {},
   "source": [
    "## Redis Strings\n",
    "- set\n",
    "- get"
   ]
  },
  {
   "cell_type": "code",
   "execution_count": 7,
   "id": "a84b3989-6a42-4f3a-b800-4c9219400bc1",
   "metadata": {},
   "outputs": [
    {
     "data": {
      "text/plain": [
       "True"
      ]
     },
     "execution_count": 7,
     "metadata": {},
     "output_type": "execute_result"
    }
   ],
   "source": [
    "r.set(name='foo', value='bar' )"
   ]
  },
  {
   "cell_type": "code",
   "execution_count": 8,
   "id": "f57579ae-5ab0-431b-9a7f-aee26d92202e",
   "metadata": {},
   "outputs": [
    {
     "data": {
      "text/plain": [
       "b'bar'"
      ]
     },
     "execution_count": 8,
     "metadata": {},
     "output_type": "execute_result"
    }
   ],
   "source": [
    "r.get(name='foo')"
   ]
  },
  {
   "cell_type": "code",
   "execution_count": 9,
   "id": "541de279-17a2-451c-975b-31796452f797",
   "metadata": {},
   "outputs": [
    {
     "data": {
      "text/plain": [
       "[b'message', b'mykey1', b'mykey2', b'foo', b'KEY', b'MESSAGE']"
      ]
     },
     "execution_count": 9,
     "metadata": {},
     "output_type": "execute_result"
    }
   ],
   "source": [
    "r.keys()"
   ]
  },
  {
   "cell_type": "code",
   "execution_count": null,
   "id": "f2feb303-8006-42db-8c91-48e32649b92c",
   "metadata": {},
   "outputs": [],
   "source": []
  }
 ],
 "metadata": {
  "kernelspec": {
   "display_name": "Python 3 (ipykernel)",
   "language": "python",
   "name": "python3"
  },
  "language_info": {
   "codemirror_mode": {
    "name": "ipython",
    "version": 3
   },
   "file_extension": ".py",
   "mimetype": "text/x-python",
   "name": "python",
   "nbconvert_exporter": "python",
   "pygments_lexer": "ipython3",
   "version": "3.10.11"
  }
 },
 "nbformat": 4,
 "nbformat_minor": 5
}
