{
 "cells": [
  {
   "cell_type": "code",
   "execution_count": 2,
   "id": "19ee5576-d9bf-4f7c-8746-0289adb56bab",
   "metadata": {},
   "outputs": [],
   "source": [
    "import redis"
   ]
  },
  {
   "cell_type": "code",
   "execution_count": 4,
   "id": "064f8e06-560c-4fc3-9736-c667d18840b5",
   "metadata": {},
   "outputs": [],
   "source": [
    "hostname = \"redis-13063.c239.us-east-1-2.ec2.redns.redis-cloud.com\"\n",
    "port = 13063\n",
    "password = '5WFjwCidKyiUxsWLm4R4a5UJbviMvuiy'\n",
    "\n",
    "r = redis.Redis(host=hostname, port=port, password=password)"
   ]
  },
  {
   "cell_type": "code",
   "execution_count": 5,
   "id": "e485678a-96b5-4a30-8bd8-93adf53b3f17",
   "metadata": {},
   "outputs": [
    {
     "data": {
      "text/plain": [
       "True"
      ]
     },
     "execution_count": 5,
     "metadata": {},
     "output_type": "execute_result"
    }
   ],
   "source": [
    "r.ping()"
   ]
  },
  {
   "cell_type": "markdown",
   "id": "1940f1d7-498b-4440-9ddc-94575f8da27c",
   "metadata": {},
   "source": [
    "### Create Redis list"
   ]
  },
  {
   "cell_type": "code",
   "execution_count": 6,
   "id": "1d90ed50-3a75-4724-aa06-d4f600de7c2d",
   "metadata": {},
   "outputs": [
    {
     "data": {
      "text/plain": [
       "1"
      ]
     },
     "execution_count": 6,
     "metadata": {},
     "output_type": "execute_result"
    }
   ],
   "source": [
    "# this will create a list with name mylist and value value_1\n",
    "r.lpush('mylist', 'value_1') "
   ]
  },
  {
   "cell_type": "code",
   "execution_count": 9,
   "id": "9580c25f-be1b-4bd5-a220-399fafb0afd8",
   "metadata": {},
   "outputs": [
    {
     "data": {
      "text/plain": [
       "b'value_1'"
      ]
     },
     "execution_count": 9,
     "metadata": {},
     "output_type": "execute_result"
    }
   ],
   "source": [
    "# retrive using lindex, lrange\n",
    "r.lindex(name='mylist', index=0)\n",
    "# this will return value in 0 index"
   ]
  },
  {
   "cell_type": "code",
   "execution_count": 12,
   "id": "ae35c239-3e6c-4f5d-bb7e-327b702f0686",
   "metadata": {},
   "outputs": [
    {
     "data": {
      "text/plain": [
       "[b'value_1']"
      ]
     },
     "execution_count": 12,
     "metadata": {},
     "output_type": "execute_result"
    }
   ],
   "source": [
    "# this cmd will return all the values from the list in given range\n",
    "r.lrange(name='mylist', start=0, end=-1)"
   ]
  },
  {
   "cell_type": "code",
   "execution_count": 13,
   "id": "31453a3c-faf1-4031-ac03-ae091dbca2af",
   "metadata": {},
   "outputs": [
    {
     "data": {
      "text/plain": [
       "2"
      ]
     },
     "execution_count": 13,
     "metadata": {},
     "output_type": "execute_result"
    }
   ],
   "source": [
    "# push value always from the left side\n",
    "r.lpush('mylist', 'value_2')"
   ]
  },
  {
   "cell_type": "code",
   "execution_count": 14,
   "id": "53c0a67f-5198-45a7-9472-86fb0b750ea2",
   "metadata": {},
   "outputs": [
    {
     "data": {
      "text/plain": [
       "[b'value_2', b'value_1']"
      ]
     },
     "execution_count": 14,
     "metadata": {},
     "output_type": "execute_result"
    }
   ],
   "source": [
    "r.lrange(name='mylist', start=0, end=-1)"
   ]
  },
  {
   "cell_type": "code",
   "execution_count": 16,
   "id": "4d985c93-88a9-41af-b22d-b638a08986a7",
   "metadata": {},
   "outputs": [
    {
     "data": {
      "text/plain": [
       "5"
      ]
     },
     "execution_count": 16,
     "metadata": {},
     "output_type": "execute_result"
    }
   ],
   "source": [
    "# push value always from the right side\n",
    "r.rpush('mylist', 'value_3', 'value_4')"
   ]
  },
  {
   "cell_type": "code",
   "execution_count": 17,
   "id": "2aeba884-e9b1-486b-b1a6-809561ed9bc4",
   "metadata": {},
   "outputs": [
    {
     "data": {
      "text/plain": [
       "[b'value_2', b'value_1', b'value_3', b'value_3', b'value_4']"
      ]
     },
     "execution_count": 17,
     "metadata": {},
     "output_type": "execute_result"
    }
   ],
   "source": [
    "r.lrange('mylist', 0, -1)"
   ]
  },
  {
   "cell_type": "code",
   "execution_count": 24,
   "id": "596400ac-136f-46e0-9271-f168df128d1f",
   "metadata": {},
   "outputs": [
    {
     "data": {
      "text/plain": [
       "0"
      ]
     },
     "execution_count": 24,
     "metadata": {},
     "output_type": "execute_result"
    }
   ],
   "source": [
    "# lpushx, rpushx\n",
    "# lpush : value is pushed from the left side if the value already exist inside the list\n",
    "r.lpushx('mylist1', 'somevalue')"
   ]
  },
  {
   "cell_type": "code",
   "execution_count": 21,
   "id": "b5a29014-1fac-4f5b-9689-42e7c49ec36d",
   "metadata": {},
   "outputs": [
    {
     "data": {
      "text/plain": [
       "[b'message', b'mykey1', b'mylist', b'mykey2', b'foo', b'KEY', b'MESSAGE']"
      ]
     },
     "execution_count": 21,
     "metadata": {},
     "output_type": "execute_result"
    }
   ],
   "source": [
    "r.keys('*')"
   ]
  },
  {
   "cell_type": "code",
   "execution_count": 22,
   "id": "77c40405-8dc6-468c-a4b1-3ca0916079f5",
   "metadata": {},
   "outputs": [
    {
     "data": {
      "text/plain": [
       "[]"
      ]
     },
     "execution_count": 22,
     "metadata": {},
     "output_type": "execute_result"
    }
   ],
   "source": [
    "r.lrange('mylist1', 0, -1)"
   ]
  },
  {
   "cell_type": "code",
   "execution_count": 25,
   "id": "e710655e-12bd-4396-9331-796e8c7f680e",
   "metadata": {},
   "outputs": [
    {
     "data": {
      "text/plain": [
       "6"
      ]
     },
     "execution_count": 25,
     "metadata": {},
     "output_type": "execute_result"
    }
   ],
   "source": [
    "r.lpushx('mylist','somevalue')"
   ]
  },
  {
   "cell_type": "code",
   "execution_count": 26,
   "id": "f7501cd9-6537-4b0f-968a-ebc775a56c8d",
   "metadata": {},
   "outputs": [
    {
     "data": {
      "text/plain": [
       "[b'somevalue', b'value_2', b'value_1', b'value_3', b'value_3', b'value_4']"
      ]
     },
     "execution_count": 26,
     "metadata": {},
     "output_type": "execute_result"
    }
   ],
   "source": [
    "r.lrange('mylist', 0, -1)"
   ]
  },
  {
   "cell_type": "code",
   "execution_count": 29,
   "id": "a00ed791-368b-4c21-bf09-9e30dfb879e4",
   "metadata": {},
   "outputs": [
    {
     "data": {
      "text/plain": [
       "9"
      ]
     },
     "execution_count": 29,
     "metadata": {},
     "output_type": "execute_result"
    }
   ],
   "source": [
    "# linsert\n",
    "# it will insert the value 'varun' before the value 'value_1' in an existing list. \n",
    "# no operations are performed in an non-existing list\n",
    "r.linsert('mylist', where='before', refvalue='value_1', value='varun')\n",
    "# where : before | after"
   ]
  },
  {
   "cell_type": "code",
   "execution_count": 30,
   "id": "dd33a51c-8e3e-461a-93de-7c6217b36b8c",
   "metadata": {},
   "outputs": [
    {
     "data": {
      "text/plain": [
       "[b'somevalue',\n",
       " b'value_2',\n",
       " b'varun',\n",
       " b'varun',\n",
       " b'varun',\n",
       " b'value_1',\n",
       " b'value_3',\n",
       " b'value_3',\n",
       " b'value_4']"
      ]
     },
     "execution_count": 30,
     "metadata": {},
     "output_type": "execute_result"
    }
   ],
   "source": [
    "r.lrange('mylist', 0, -1)"
   ]
  },
  {
   "cell_type": "code",
   "execution_count": 31,
   "id": "7fbb6b0b-fe9d-459b-a2a9-c9024a063ea8",
   "metadata": {},
   "outputs": [
    {
     "data": {
      "text/plain": [
       "10"
      ]
     },
     "execution_count": 31,
     "metadata": {},
     "output_type": "execute_result"
    }
   ],
   "source": [
    "r.linsert(name='mylist', where=\"after\", refvalue='value_1', value='value_5')"
   ]
  },
  {
   "cell_type": "markdown",
   "id": "df84f564-ebad-41b0-9faf-a5bf776ba75b",
   "metadata": {},
   "source": [
    "r.lrange('mylist', 0, -1)"
   ]
  },
  {
   "cell_type": "markdown",
   "id": "16347b40-e4a2-4050-9570-a5b4ed56e89a",
   "metadata": {},
   "source": [
    "### LSET"
   ]
  },
  {
   "cell_type": "code",
   "execution_count": 33,
   "id": "9b0ed3e5-290e-4a39-809e-d91e59784c5d",
   "metadata": {},
   "outputs": [
    {
     "name": "stdout",
     "output_type": "stream",
     "text": [
      "[b'value_6', b'value_2', b'varun', b'varun', b'varun', b'value_1', b'value_5', b'value_3', b'value_3', b'value_4']\n"
     ]
    }
   ],
   "source": [
    "# modifies the list's value at the given index \n",
    "r.lset(name='mylist', index=0, value='value_6')\n",
    "print(r.lrange('mylist', 0, -1))"
   ]
  },
  {
   "cell_type": "markdown",
   "id": "fd63400b-a3d5-4b3f-b352-6315caba041c",
   "metadata": {},
   "source": [
    "### REMOVE COMMANDS\n",
    "- Lpop, Rpop, Lmpop, Lrpop"
   ]
  },
  {
   "cell_type": "code",
   "execution_count": 34,
   "id": "b77213aa-dbf5-4f65-9c25-46144e88ddff",
   "metadata": {},
   "outputs": [
    {
     "data": {
      "text/plain": [
       "b'value_6'"
      ]
     },
     "execution_count": 34,
     "metadata": {},
     "output_type": "execute_result"
    }
   ],
   "source": [
    "# removes and return element from left first element from list\n",
    "r.lpop('mylist')"
   ]
  },
  {
   "cell_type": "code",
   "execution_count": 35,
   "id": "b9d3d4e6-080e-4ff1-b18c-14e6758df792",
   "metadata": {},
   "outputs": [
    {
     "data": {
      "text/plain": [
       "b'value_4'"
      ]
     },
     "execution_count": 35,
     "metadata": {},
     "output_type": "execute_result"
    }
   ],
   "source": [
    "# removes and return last element from list\n",
    "r.rpop('mylist')"
   ]
  },
  {
   "cell_type": "code",
   "execution_count": 37,
   "id": "ea9420d5-a7d2-44e9-b381-ee60cfda6ffa",
   "metadata": {},
   "outputs": [
    {
     "name": "stdout",
     "output_type": "stream",
     "text": [
      "[b'value_2', b'varun', b'varun', b'varun', b'value_1', b'value_5', b'value_3', b'value_3']\n"
     ]
    }
   ],
   "source": [
    "print(r.lrange('mylist', 0, -1))"
   ]
  },
  {
   "cell_type": "code",
   "execution_count": 39,
   "id": "1ec72fce-da05-4c53-bf91-60974bcdb9df",
   "metadata": {},
   "outputs": [
    {
     "name": "stdout",
     "output_type": "stream",
     "text": [
      "[b'value_2', b'value_1', b'value_5', b'value_3', b'value_3']\n"
     ]
    }
   ],
   "source": [
    "# it will remove the first occurence of the value\n",
    "r.lrem('mylist', count=0, value='varun')\n",
    "print(r.lrange('mylist', 0, -1))"
   ]
  },
  {
   "cell_type": "code",
   "execution_count": 43,
   "id": "03634936-7c4d-45b6-9cdf-9fbe77d8c041",
   "metadata": {},
   "outputs": [
    {
     "name": "stdout",
     "output_type": "stream",
     "text": [
      "[b'ele1', b'ele2', b'ele3']\n"
     ]
    }
   ],
   "source": [
    "r.rpush('mylist1', *('ele1', 'ele2', 'ele3'))\n",
    "print(r.lrange('mylist1', 0, -1))"
   ]
  },
  {
   "cell_type": "code",
   "execution_count": 45,
   "id": "f0e1fbc5-bd38-4cee-9867-687831d2e78e",
   "metadata": {},
   "outputs": [
    {
     "data": {
      "text/plain": [
       "1"
      ]
     },
     "execution_count": 45,
     "metadata": {},
     "output_type": "execute_result"
    }
   ],
   "source": [
    "# deletes all elements in list\n",
    "r.delete('mylist1')"
   ]
  },
  {
   "cell_type": "code",
   "execution_count": 47,
   "id": "817c4bbe-2b86-472d-a280-b7bfca8ab019",
   "metadata": {},
   "outputs": [
    {
     "name": "stdout",
     "output_type": "stream",
     "text": [
      "[]\n"
     ]
    }
   ],
   "source": [
    "print(r.lrange('mylist1', 0, -1))"
   ]
  },
  {
   "cell_type": "markdown",
   "id": "4d7cda8a-f665-4768-ab41-9a909938df89",
   "metadata": {},
   "source": [
    " ### LIST OPERATIONS\n",
    "- LLEN\n",
    "- LPOS\n",
    "- LTRIM\n",
    "- LMOVE"
   ]
  },
  {
   "cell_type": "code",
   "execution_count": 53,
   "id": "e728687b-938f-472c-a35b-aecbbf21c328",
   "metadata": {},
   "outputs": [
    {
     "data": {
      "text/plain": [
       "5"
      ]
     },
     "execution_count": 53,
     "metadata": {},
     "output_type": "execute_result"
    }
   ],
   "source": [
    "# llen : tells the no of elements in the list\n",
    "r.llen('mylist')"
   ]
  },
  {
   "cell_type": "code",
   "execution_count": 54,
   "id": "6e6e593e-dd30-40ea-b90c-7fc4b21cab70",
   "metadata": {},
   "outputs": [
    {
     "data": {
      "text/plain": [
       "2"
      ]
     },
     "execution_count": 54,
     "metadata": {},
     "output_type": "execute_result"
    }
   ],
   "source": [
    "# lpos : returns the positon/index of the element/value in the list\n",
    "r.lpos('mylist', value='value_5')"
   ]
  },
  {
   "cell_type": "code",
   "execution_count": 55,
   "id": "9444d91e-bbd1-4d0a-b6b3-6f074afbb0b0",
   "metadata": {},
   "outputs": [
    {
     "name": "stdout",
     "output_type": "stream",
     "text": [
      "[b'value_2', b'value_1', b'value_5', b'value_3', b'value_3']\n"
     ]
    }
   ],
   "source": [
    "print(r.lrange('mylist', 0, -1))"
   ]
  },
  {
   "cell_type": "code",
   "execution_count": 56,
   "id": "e719aaae-f345-4e19-a730-cebdc7dec16a",
   "metadata": {},
   "outputs": [
    {
     "data": {
      "text/plain": [
       "True"
      ]
     },
     "execution_count": 56,
     "metadata": {},
     "output_type": "execute_result"
    }
   ],
   "source": [
    "# ltrim : slice the list\n",
    "r.ltrim('mylist', start=0, end=2)"
   ]
  },
  {
   "cell_type": "code",
   "execution_count": 57,
   "id": "6790b324-e183-424b-843e-78c98806db44",
   "metadata": {},
   "outputs": [
    {
     "name": "stdout",
     "output_type": "stream",
     "text": [
      "[b'value_2', b'value_1', b'value_5']\n"
     ]
    }
   ],
   "source": [
    "print(r.lrange('mylist', 0, -1))"
   ]
  },
  {
   "cell_type": "code",
   "execution_count": 63,
   "id": "242f4512-f32f-43c4-a9c5-c501f11711c4",
   "metadata": {},
   "outputs": [
    {
     "name": "stdout",
     "output_type": "stream",
     "text": [
      "[b'ele1', b'ele2', b'ele3', b'ele1', b'ele2', b'ele3', b'ele1', b'ele2', b'ele3', b'ele1', b'ele2', b'ele3']\n",
      "[b'value_2', b'value_1', b'value_5']\n"
     ]
    }
   ],
   "source": [
    "# lmove : \n",
    "r.rpush('mylist1', *('ele1', 'ele2', 'ele3'))\n"
   ]
  },
  {
   "cell_type": "code",
   "execution_count": 65,
   "id": "c5a08cc3-c081-4cc2-b855-993cb324a27d",
   "metadata": {},
   "outputs": [
    {
     "name": "stdout",
     "output_type": "stream",
     "text": [
      "[b'value_2', b'value_1', b'value_5']\n",
      "[b'ele1', b'ele2', b'ele3', b'ele1', b'ele2', b'ele3', b'ele1', b'ele2', b'ele3', b'ele1', b'ele2', b'ele3']\n"
     ]
    }
   ],
   "source": [
    "print(r.lrange('mylist', 0, -1))\n",
    "print(r.lrange('mylist1', 0, -1))"
   ]
  },
  {
   "cell_type": "code",
   "execution_count": 66,
   "id": "c2a829c2-4afc-4e99-a9ca-c9414460eb49",
   "metadata": {},
   "outputs": [
    {
     "name": "stdout",
     "output_type": "stream",
     "text": [
      "[b'ele1', b'ele2', b'ele3', b'ele1', b'ele2', b'ele3', b'ele1', b'ele2', b'ele3', b'ele1', b'ele2', b'ele3', b'value_2']\n"
     ]
    }
   ],
   "source": [
    "r.lmove('mylist', 'mylist1', src='LEFT', dest='RIGHT')\n",
    "print(r.lrange('mylist1', 0, -1))"
   ]
  },
  {
   "cell_type": "markdown",
   "id": "7876b1a3-85d9-4e9b-9667-1bc8a1c5772b",
   "metadata": {},
   "source": [
    "## USEFUL LINKS FOR INSIGTFACE\n",
    "\n",
    "1. website: https://insightface.ai/\n",
    "2. Insightface Github: https://github.com/deepinsight/insightface\n",
    "3. Insightface Buffalo Models: https://github.com/deepinsight/insightface/tree/master/python-package"
   ]
  },
  {
   "cell_type": "code",
   "execution_count": null,
   "id": "ea4842fe-0c7d-49d5-a1b8-179d8583493a",
   "metadata": {},
   "outputs": [],
   "source": []
  }
 ],
 "metadata": {
  "kernelspec": {
   "display_name": "Python 3 (ipykernel)",
   "language": "python",
   "name": "python3"
  },
  "language_info": {
   "codemirror_mode": {
    "name": "ipython",
    "version": 3
   },
   "file_extension": ".py",
   "mimetype": "text/x-python",
   "name": "python",
   "nbconvert_exporter": "python",
   "pygments_lexer": "ipython3",
   "version": "3.10.11"
  }
 },
 "nbformat": 4,
 "nbformat_minor": 5
}
